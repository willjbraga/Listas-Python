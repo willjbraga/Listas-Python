{
 "cells": [
  {
   "cell_type": "markdown",
   "id": "611ed117",
   "metadata": {},
   "source": [
    "---\n",
    "### 1. Faça um programa que peça uma nota, entre zero e dez. Mostre uma mensagem caso o valor seja inválido e continue pedindo até que o usuário informe um valor válido."
   ]
  },
  {
   "cell_type": "code",
   "execution_count": 8,
   "id": "8b22e076",
   "metadata": {},
   "outputs": [
    {
     "name": "stdout",
     "output_type": "stream",
     "text": [
      "Digite uma nota entre 0 e 10: 20\n",
      "Digite um valor correto entre 0 e 1020\n",
      "Digite um valor correto entre 0 e 1030\n",
      "Digite um valor correto entre 0 e 1030\n",
      "Digite um valor correto entre 0 e 1010\n"
     ]
    }
   ],
   "source": [
    "numero = int(input(\"Digite uma nota entre 0 e 10: \"))\n",
    "\n",
    "while not 0 <= numero <= 10:\n",
    "    numero = int(input(\"Digite um valor correto entre 0 e 10: \"))"
   ]
  },
  {
   "cell_type": "markdown",
   "id": "70b62fd5",
   "metadata": {},
   "source": [
    "---\n",
    "### 2. Faça um programa que leia um nome de usuário e a sua senha e não aceite a senha igual ao nome do usuário, mostrando uma mensagem de erro e voltando a pedir as informações."
   ]
  },
  {
   "cell_type": "code",
   "execution_count": 9,
   "id": "2a32a8b7",
   "metadata": {},
   "outputs": [
    {
     "name": "stdout",
     "output_type": "stream",
     "text": [
      "Digite seu nome: william\n",
      "Digite sua senha: william\n",
      "A senha está igual ao nome, digite corretamente seu nome e senha\n",
      "Nome: william\n",
      "Senha: slash\n"
     ]
    }
   ],
   "source": [
    "nome = input(\"Digite seu nome: \")\n",
    "senha = input(\"Digite sua senha: \")\n",
    "\n",
    "while nome == senha:\n",
    "    print(\"\\nA senha está igual ao nome, digite corretamente seu nome e senha\")\n",
    "    nome = input(\"Nome: \")\n",
    "    senha = input(\"Senha: \")"
   ]
  },
  {
   "cell_type": "markdown",
   "id": "5570587e",
   "metadata": {},
   "source": [
    "---\n",
    "### 3. Faça um programa que leia e valide as seguintes informações:\n",
    "* Nome: maior que 3 caracteres;\n",
    "* Idade: entre 0 e 150;\n",
    "* Salário: maior que zero;\n",
    "* Sexo: 'f' ou 'm';\n",
    "* Estado Civil: 's', 'c', 'v', 'd';"
   ]
  },
  {
   "cell_type": "code",
   "execution_count": 26,
   "id": "59a7bd62",
   "metadata": {},
   "outputs": [
    {
     "name": "stdout",
     "output_type": "stream",
     "text": [
      "Digite seu nome: wwww\n",
      "Digite sua idade: 22\n",
      "Digite seu salário: 2\n",
      "Digite seu Sexo (f ou m): m\n",
      "Digite seu estado civil com s(solteiro), c(casado), v(viúvo) ou d(divorciado): c\n"
     ]
    }
   ],
   "source": [
    "#Validação para Nome\n",
    "nome = input(\"Digite seu nome: \")\n",
    "\n",
    "while len(nome) <= 3:\n",
    "    nome = input(\"Digite seu nome corretamente (mais de 3 caracteres): \")\n",
    "    \n",
    "#Validação para Idade\n",
    "idade = int(input(\"Digite sua idade: \"))\n",
    "\n",
    "while not 0 <= idade <= 150:\n",
    "    idade = int(input(\"Digite uma idade entre 0 e 150: \"))\n",
    "\n",
    "#Validação para Salário\n",
    "salario = float(input(\"Digite seu salário: \"))\n",
    "\n",
    "while salario <= 0:\n",
    "    salario = float(input(\"Digite seu salário corretamente (maior que 0): \"))\n",
    "\n",
    "#Validação para Sexo\n",
    "sexo = input(\"Digite seu Sexo (f ou m): \").lower()\n",
    "\n",
    "while not (sexo == 'f' or sexo == 'm'):\n",
    "    sexo = input(\"Digite seu sexo corretamente com f ou m: \")\n",
    "\n",
    "#Validação para Estado Civil\n",
    "estado_civil = input(\"Digite seu estado civil com s(solteiro), c(casado), v(viúvo) ou d(divorciado): \").lower()\n",
    "\n",
    "while estado_civil not in 's,c,v,d':\n",
    "    estado_civil = input(\"Digite seu estado civil corretamento com s, c, v ou d: \")"
   ]
  },
  {
   "cell_type": "markdown",
   "id": "dd9310c5",
   "metadata": {},
   "source": [
    "---\n",
    "### 4. Supondo que a população de um país A seja da ordem de 80000 habitantes com uma taxa anual de crescimento de 3% e que a população de B seja 200000 habitantes com uma taxa de crescimento de 1.5%. Faça um programa que calcule e escreva o número de anos necessários para que a população do país A ultrapasse ou iguale a população do país B, mantidas as taxas de crescimento."
   ]
  },
  {
   "cell_type": "code",
   "execution_count": 32,
   "id": "78250cae",
   "metadata": {},
   "outputs": [
    {
     "name": "stdout",
     "output_type": "stream",
     "text": [
      "Em 63 anos a população do Pais A com 515033 passou B com 510964\n"
     ]
    }
   ],
   "source": [
    "A = 80000\n",
    "B = 200000\n",
    "anos = 0\n",
    "\n",
    "while not A > B:\n",
    "    A += (A * 0.03)\n",
    "    B += (B * 0.015)\n",
    "    anos += 1\n",
    "    \n",
    "print(f\"Em {anos} anos a população do Pais A com {A:.0f} passou B com {B:.0f}\")"
   ]
  },
  {
   "cell_type": "markdown",
   "id": "a38220bb",
   "metadata": {},
   "source": [
    "---\n",
    "### 5. Altere o programa anterior permitindo ao usuário informar as populações e as taxas de crescimento iniciais. Valide a entrada e permita repetir a operação."
   ]
  },
  {
   "cell_type": "code",
   "execution_count": null,
   "id": "303ff768",
   "metadata": {},
   "outputs": [],
   "source": []
  },
  {
   "cell_type": "markdown",
   "id": "e458fd1a",
   "metadata": {},
   "source": [
    "---\n",
    "### 6. Faça um programa que imprima na tela os números de 1 a 20, um abaixo do outro. Depois modifique o programa para que ele mostre os números um ao lado do outro."
   ]
  },
  {
   "cell_type": "code",
   "execution_count": null,
   "id": "f107acbc",
   "metadata": {},
   "outputs": [],
   "source": []
  },
  {
   "cell_type": "markdown",
   "id": "9f150158",
   "metadata": {},
   "source": [
    "---\n",
    "### 7. Faça um programa que leia 5 números e informe o maior número."
   ]
  },
  {
   "cell_type": "code",
   "execution_count": null,
   "id": "9a3b5f5b",
   "metadata": {},
   "outputs": [],
   "source": []
  },
  {
   "cell_type": "markdown",
   "id": "9384716e",
   "metadata": {},
   "source": [
    "---\n",
    "### 8. Faça um programa que leia 5 números e informe a soma e a média dos números."
   ]
  },
  {
   "cell_type": "code",
   "execution_count": null,
   "id": "89210b4a",
   "metadata": {},
   "outputs": [],
   "source": []
  },
  {
   "cell_type": "markdown",
   "id": "f57996c0",
   "metadata": {},
   "source": [
    "---\n",
    "### 9. Faça um programa que imprima na tela apenas os números ímpares entre 1 e 50."
   ]
  },
  {
   "cell_type": "code",
   "execution_count": null,
   "id": "692bb2e1",
   "metadata": {},
   "outputs": [],
   "source": []
  },
  {
   "cell_type": "markdown",
   "id": "3906a497",
   "metadata": {},
   "source": [
    "---\n",
    "### 10. Faça um programa que receba dois números inteiros e gere os números inteiros que estão no intervalo compreendido por eles."
   ]
  },
  {
   "cell_type": "code",
   "execution_count": null,
   "id": "173a1738",
   "metadata": {},
   "outputs": [],
   "source": []
  },
  {
   "cell_type": "markdown",
   "id": "d507a16a",
   "metadata": {},
   "source": [
    "---\n",
    "### 11. Altere o programa anterior para mostrar no final a soma dos números."
   ]
  },
  {
   "cell_type": "code",
   "execution_count": null,
   "id": "5e2544e4",
   "metadata": {},
   "outputs": [],
   "source": []
  }
 ],
 "metadata": {
  "kernelspec": {
   "display_name": "Python 3 (ipykernel)",
   "language": "python",
   "name": "python3"
  },
  "language_info": {
   "codemirror_mode": {
    "name": "ipython",
    "version": 3
   },
   "file_extension": ".py",
   "mimetype": "text/x-python",
   "name": "python",
   "nbconvert_exporter": "python",
   "pygments_lexer": "ipython3",
   "version": "3.11.5"
  }
 },
 "nbformat": 4,
 "nbformat_minor": 5
}
