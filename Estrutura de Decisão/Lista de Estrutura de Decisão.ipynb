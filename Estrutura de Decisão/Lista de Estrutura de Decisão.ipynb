{
 "cells": [
  {
   "cell_type": "markdown",
   "id": "abcfa5f6-ba7a-42c0-b296-05e1e186f230",
   "metadata": {},
   "source": [
    "### 1. Faça um Programa que peça dois números e imprima o maior deles."
   ]
  },
  {
   "cell_type": "code",
   "execution_count": 2,
   "id": "495f7e34-39fb-4954-a6b6-2bf37607fd1a",
   "metadata": {},
   "outputs": [
    {
     "name": "stdin",
     "output_type": "stream",
     "text": [
      "Digite o primeiro numero:  10\n",
      "Digite o segundo numero:  20\n"
     ]
    },
    {
     "name": "stdout",
     "output_type": "stream",
     "text": [
      "O segundo numero (20.0) é maior\n"
     ]
    }
   ],
   "source": [
    "numero1 = float(input(\"Digite o primeiro numero: \"))\n",
    "numero2 = float(input(\"Digite o segundo numero: \"))\n",
    "\n",
    "if numero1 > numero2:\n",
    "    print(f\"O primeiro numero ({numero1}) é maior\")\n",
    "elif numero2 > numero1:\n",
    "    print(f\"O segundo numero ({numero2}) é maior\")\n",
    "else:\n",
    "    pritn(\"Os numeros são iguais\")"
   ]
  },
  {
   "cell_type": "markdown",
   "id": "060c574e-aa55-40c7-9f47-5d293d58896b",
   "metadata": {},
   "source": [
    "### 2. Faça um Programa que peça um valor e mostre na tela se o valor é positivo ou negativo."
   ]
  },
  {
   "cell_type": "code",
   "execution_count": 4,
   "id": "af41ea7a-4b9e-4d77-8541-e17d611424e2",
   "metadata": {},
   "outputs": [
    {
     "name": "stdin",
     "output_type": "stream",
     "text": [
      "Digite um numero:  10\n"
     ]
    },
    {
     "name": "stdout",
     "output_type": "stream",
     "text": [
      "O numero é positivo\n"
     ]
    }
   ],
   "source": [
    "numero = float(input(\"Digite um numero: \"))\n",
    "\n",
    "if numero < 0:\n",
    "    print(\"O numero é negativo\")\n",
    "else:\n",
    "    print(\"O numero é positivo\")"
   ]
  },
  {
   "cell_type": "markdown",
   "id": "c24c799f-583f-46b3-8b6d-4a3c212d9e02",
   "metadata": {},
   "source": [
    "### 3. Faça um Programa que verifique se uma letra digitada é \"F\" ou \"M\". Conforme a letra escrever: F - Feminino, M - Masculino, Sexo Inválido."
   ]
  },
  {
   "cell_type": "code",
   "execution_count": 8,
   "id": "5d704312-db86-4c5f-b871-d9090b2fac86",
   "metadata": {},
   "outputs": [
    {
     "name": "stdin",
     "output_type": "stream",
     "text": [
      "Digite seu sexo com F ou M: m\n"
     ]
    },
    {
     "name": "stdout",
     "output_type": "stream",
     "text": [
      "Masculino\n"
     ]
    }
   ],
   "source": [
    "sexo = input(\"Digite seu sexo com F ou M:\" )\n",
    "\n",
    "if sexo.upper() == \"F\":\n",
    "    print(\"Feminino\")\n",
    "elif sexo.upper() == \"M\":\n",
    "    print(\"Masculino\")\n",
    "else:\n",
    "    print(\"Sexo Inválido\")"
   ]
  },
  {
   "cell_type": "markdown",
   "id": "8bd7b626-d634-4fa1-a73a-b60ebc62a004",
   "metadata": {},
   "source": [
    "### 4. Faça um Programa que verifique se uma letra digitada é vogal ou consoante."
   ]
  },
  {
   "cell_type": "code",
   "execution_count": 13,
   "id": "6d4d7f44-e288-49c3-9cf9-0f9369d34503",
   "metadata": {},
   "outputs": [
    {
     "name": "stdin",
     "output_type": "stream",
     "text": [
      "Digite uma letra:  A\n"
     ]
    },
    {
     "name": "stdout",
     "output_type": "stream",
     "text": [
      "A letra digitada é uma vogal\n"
     ]
    }
   ],
   "source": [
    "letra = input(\"Digite uma letra: \")\n",
    "\n",
    "if letra in \"aeiouAEIOU\":\n",
    "    print(\"A letra digitada é uma vogal\")\n",
    "else:\n",
    "    print(\"A letra digitada é uma consoante\")"
   ]
  },
  {
   "cell_type": "markdown",
   "id": "d1ada201-c870-4c4a-bfac-9014151f81d9",
   "metadata": {},
   "source": [
    "### 5. Faça um programa para a leitura de duas notas parciais de um aluno. O programa deve calcular a média alcançada por aluno e apresentar:\n",
    "    \n",
    "    \n",
    "- A mensagem \"Aprovado\", se a média alcançada for maior ou igual a sete; \n",
    "- A mensagem \"Reprovado\", se a média for menor do que sete;\n",
    "- A mensagem \"Aprovado com Distinção\", se a média for igual a dez."
   ]
  },
  {
   "cell_type": "code",
   "execution_count": 16,
   "id": "6088c7a5-c45b-4af0-bc69-267a1ce520d2",
   "metadata": {},
   "outputs": [
    {
     "name": "stdin",
     "output_type": "stream",
     "text": [
      "Digite a primeira nota do aluno:  5\n",
      "Digite a segunda nota do aluno:  2\n"
     ]
    },
    {
     "name": "stdout",
     "output_type": "stream",
     "text": [
      "Reprovado\n"
     ]
    }
   ],
   "source": [
    "nota1 = float(input(\"Digite a primeira nota do aluno: \"))\n",
    "nota2 = float(input(\"Digite a segunda nota do aluno: \"))\n",
    "\n",
    "media = (nota1 + nota2) / 2\n",
    "\n",
    "if media == 10:\n",
    "    print(\"Aprovado com Distinção\")\n",
    "elif media >= 7:\n",
    "    print(\"Aprovado\")\n",
    "else:\n",
    "    print(\"Reprovado\")\n",
    "    "
   ]
  },
  {
   "cell_type": "markdown",
   "id": "ecf8fcb6-fa40-4328-8d21-e6c756727486",
   "metadata": {},
   "source": [
    "### 6. Faça um Programa que leia três números e mostre o maior deles."
   ]
  },
  {
   "cell_type": "code",
   "execution_count": null,
   "id": "f17db287-391f-4179-b195-fb9be1e7e8dd",
   "metadata": {},
   "outputs": [],
   "source": []
  },
  {
   "cell_type": "markdown",
   "id": "ad66bc73-5e45-4b1f-b83c-45823e56c910",
   "metadata": {},
   "source": [
    "### 7. Faça um Programa que leia três números e mostre o maior e o menor deles."
   ]
  },
  {
   "cell_type": "code",
   "execution_count": null,
   "id": "cf597594-e323-4f38-ba18-f7a41d50037c",
   "metadata": {},
   "outputs": [],
   "source": []
  },
  {
   "cell_type": "markdown",
   "id": "3aa8983d-c1ec-419d-8be7-5a085ec01ed5",
   "metadata": {},
   "source": [
    "### 8. Faça um programa que pergunte o preço de três produtos e informe qual produto você deve comprar, sabendo que a decisão é sempre pelo mais barato."
   ]
  },
  {
   "cell_type": "code",
   "execution_count": null,
   "id": "8abd9ae6-13a9-4995-86a2-e1a9f167533e",
   "metadata": {},
   "outputs": [],
   "source": []
  },
  {
   "cell_type": "markdown",
   "id": "7471096d-4096-414e-851f-f97f576c4ad0",
   "metadata": {},
   "source": [
    "### 9. Faça um Programa que leia três números e mostre-os em ordem decrescente."
   ]
  },
  {
   "cell_type": "code",
   "execution_count": null,
   "id": "8082c95a-646d-4c98-9e60-6751055dae06",
   "metadata": {},
   "outputs": [],
   "source": []
  },
  {
   "cell_type": "markdown",
   "id": "7eeffe31-b176-4f70-b3f8-a0f441ac1b6c",
   "metadata": {},
   "source": [
    "### 10. Faça um Programa que pergunte em que turno você estuda. Peça para digitar M-matutino ou V-Vespertino ou N- Noturno. Imprima a mensagem \"Bom Dia!\", \"Boa Tarde!\" ou \"Boa Noite!\" ou \"Valor Inválido!\", conforme o caso."
   ]
  },
  {
   "cell_type": "code",
   "execution_count": null,
   "id": "fbe277e6-b724-4391-9084-6318c300b65b",
   "metadata": {},
   "outputs": [],
   "source": []
  },
  {
   "cell_type": "markdown",
   "id": "33ae2056-f5c6-4c93-bd83-25bbb60b8049",
   "metadata": {},
   "source": [
    "### 11. As Organizações Tabajara resolveram dar um aumento de salário aos seus colaboradores e lhe contraram para desenvolver o programa que calculará os reajustes.\n",
    "    \n",
    "    Faça um programa que recebe o salário de um colaborador e o reajuste segundo o seguinte critério, baseado no salário atual\n",
    "\n",
    "- salários até RS 280,00 (incluindo) : aumento de 20%\n",
    "- salários entre RS 280,00 e RS 700,00 : aumento de 15%\n",
    "- salários entre RS 700,00 e RS 1500,00 : aumento de 10%\n",
    "- salários de RS 1500,00 em diante : aumento de 5% Após o aumento ser realizado, informe na tela:\n",
    "- o salário antes do reajuste;\n",
    "- o percentual de aumento aplicado;\n",
    "- o valor do aumento;\n",
    "- o novo salário, após o aumento."
   ]
  },
  {
   "cell_type": "code",
   "execution_count": null,
   "id": "4a221e64-2600-4bac-8fb9-87f19b7445fd",
   "metadata": {},
   "outputs": [],
   "source": []
  },
  {
   "attachments": {
    "image.png": {
     "image/png": "[encoded data removed]"
    }
   },
   "cell_type": "markdown",
   "id": "d654d198",
   "metadata": {},
   "source": [
    "### 12. Faça um programa para o cálculo de uma folha de pagamento, sabendo que os descontos são do Imposto de Renda, que depende do salário bruto (conforme tabela abaixo) e 3% para o Sindicato e que o FGTS corresponde a 11% do Salário Bruto, mas não é descontado (é a empresa que deposita). O Salário Líquido corresponde ao Salário Bruto menos os descontos. O programa deverá pedir ao usuário o valor da sua hora e a quantidade de horas trabalhadas no mês.\n",
    "\n",
    "    Desconto do IR:\n",
    "    \n",
    "- Salário Bruto até 900 (inclusive) - isento\n",
    "- Salário Bruto até 1500 (inclusive) - desconto de 5%\n",
    "- Salário Bruto até 2500 (inclusive) - desconto de 10%\n",
    "- Salário Bruto acima de 2500 - desconto de 20% Imprima na tela as informações, dispostas conforme o exemplo abaixo. No exemplo o valor da hora é 5 e a quantidade de hora é 220.\n",
    "\n",
    "![image.png](attachment:image.png)"
   ]
  },
  {
   "cell_type": "code",
   "execution_count": null,
   "id": "20908ed1",
   "metadata": {},
   "outputs": [],
   "source": []
  },
  {
   "cell_type": "markdown",
   "id": "df343181",
   "metadata": {},
   "source": [
    "### 13. Faça um Programa que leia um número e exiba o dia correspondente da semana. (1-Domingo, 2- Segunda, etc.), se digitar outro valor deve aparecer valor inválido."
   ]
  },
  {
   "cell_type": "code",
   "execution_count": null,
   "id": "4c69885e",
   "metadata": {},
   "outputs": [],
   "source": []
  },
  {
   "attachments": {
    "image.png": {
     "image/png": "[encoded data removed]"
    }
   },
   "cell_type": "markdown",
   "id": "5582d7c8",
   "metadata": {},
   "source": [
    "### 14. Faça um programa que lê as duas notas parciais obtidas por um aluno numa disciplina ao longo de um semestre, e calcule a sua média. A atribuição de conceitos obedece à tabela abaixo:\n",
    "\n",
    "![image.png](attachment:image.png)\n",
    "\n",
    "O algoritmo deve mostrar na tela as notas, a média, o conceito correspondente e a mensagem “APROVADO” se o conceito for A, B ou C ou “REPROVADO” se o conceito for D ou E."
   ]
  },
  {
   "cell_type": "code",
   "execution_count": null,
   "id": "f7c9e49c",
   "metadata": {},
   "outputs": [],
   "source": []
  },
  {
   "cell_type": "markdown",
   "id": "519e3d1b",
   "metadata": {},
   "source": [
    "### 15. Faça um Programa que peça os 3 lados de um triângulo. O programa deverá informar se os valores podem ser um triângulo. Indique, caso os lados formem um triângulo, se o mesmo é: equilátero, isósceles ou escaleno.\n",
    "\n",
    "Dicas:\n",
    "\n",
    "- Três lados formam um triângulo quando a soma de quaisquer dois lados for maior que o terceiro;\n",
    "- Triângulo Equilátero: três lados iguais;\n",
    "- Triângulo Isósceles: quaisquer dois lados iguais;\n",
    "- Triângulo Escaleno: três lados diferentes;"
   ]
  },
  {
   "cell_type": "code",
   "execution_count": null,
   "id": "56627441",
   "metadata": {},
   "outputs": [],
   "source": []
  },
  {
   "cell_type": "markdown",
   "id": "a3ea4b44",
   "metadata": {},
   "source": [
    "### 16. Faça um programa que calcule as raízes de uma equação do segundo grau, na forma ax2 + bx + c. O programa deverá pedir os valores de a, b e c e fazer as consistências, informando ao usuário nas seguintes situações:\n",
    "\n",
    "    a. Se o usuário informar o valor de A igual a zero, a equação não é do segundo grau e o programa não deve fazer pedir os demais valores, sendo encerrado;\n",
    "    b. Se o delta calculado for negativo, a equação não possui raizes reais. Informe ao usuário e encerre o programa;\n",
    "    c. Se o delta calculado for igual a zero a equação possui apenas uma raiz real; informe-a ao usuário;\n",
    "    d. Se o delta for positivo, a equação possui duas raiz reais; informe-as ao usuário;"
   ]
  },
  {
   "cell_type": "code",
   "execution_count": null,
   "id": "d487cb31",
   "metadata": {},
   "outputs": [],
   "source": []
  },
  {
   "cell_type": "markdown",
   "id": "b2700e35",
   "metadata": {},
   "source": [
    "### 17. Faça um Programa que peça um número correspondente a um determinado ano e em seguida informe se este ano é ou não bissexto."
   ]
  },
  {
   "cell_type": "code",
   "execution_count": null,
   "id": "7af5e695",
   "metadata": {},
   "outputs": [],
   "source": []
  },
  {
   "cell_type": "markdown",
   "id": "96835006",
   "metadata": {},
   "source": [
    "### 18. Faça um Programa que peça uma data no formato dd/mm/aaaa e determine se a mesma é uma data válida."
   ]
  },
  {
   "cell_type": "code",
   "execution_count": null,
   "id": "a86d8f59",
   "metadata": {},
   "outputs": [],
   "source": []
  },
  {
   "cell_type": "markdown",
   "id": "8b3f4906",
   "metadata": {},
   "source": [
    "### 19. aça um Programa que leia um número inteiro menor que 1000 e imprima a quantidade de centenas, dezenas e unidades do mesmo.\n",
    "\n",
    "    Observando os termos no plural a colocação do \"e\", da vírgula entre outros. Exemplo:\n",
    "\n",
    "- 326 = 3 centenas, 2 dezenas e 6 unidades\n",
    "- 12 = 1 dezena e 2 unidades Testar com: 326, 300, 100, 320, 310,305, 301, 101, 311, 111, 25, 20, 10, 21, 11, 1, 7 e 16"
   ]
  },
  {
   "cell_type": "code",
   "execution_count": null,
   "id": "95b727ba",
   "metadata": {},
   "outputs": [],
   "source": []
  },
  {
   "cell_type": "markdown",
   "id": "ed1638f6",
   "metadata": {},
   "source": [
    "### 20. Faça um Programa para leitura de três notas parciais de um aluno. O programa deve calcular a média alcançada por aluno e presentar:\n",
    "\n",
    "    a. A mensagem \"Aprovado\", se a média for maior ou igual a 7, com a respectiva média alcançada;\n",
    "    b. A mensagem \"Reprovado\", se a média for menor do que 7, com a respectiva média alcançada;\n",
    "    c. A mensagem \"Aprovado com Distinção\", se a média for igual a 10."
   ]
  },
  {
   "cell_type": "code",
   "execution_count": null,
   "id": "9232a63c",
   "metadata": {},
   "outputs": [],
   "source": []
  },
  {
   "cell_type": "markdown",
   "id": "40607470",
   "metadata": {},
   "source": [
    "### 21. Faça um Programa para um caixa eletrônico. O programa deverá perguntar ao usuário a valor do saque e depois informar quantas notas de cada valor serão fornecidas. As notas disponíveis serão as de 1, 5, 10, 50 e 100 reais. O valor mínimo é de 10 reais e o máximo de 600 reais. O programa não deve se preocupar com a quantidade de notas existentes na máquina.\n",
    "\n",
    "- Exemplo 1: Para sacar a quantia de 256 reais, o programa fornece duas notas de 100, uma nota de 50, uma nota de 5 e uma nota de 1;\n",
    "- Exemplo 2: Para sacar a quantia de 399 reais, o programa fornece três notas de 100, uma nota de 50, quatro notas de 10, uma nota de 5 e quatro notas de 1."
   ]
  },
  {
   "cell_type": "code",
   "execution_count": null,
   "id": "5ae2e5e2",
   "metadata": {},
   "outputs": [],
   "source": []
  },
  {
   "cell_type": "markdown",
   "id": "f46fedfe",
   "metadata": {},
   "source": [
    "### 22. Faça um Programa que peça um número inteiro e determine se ele é par ou impar. Dica: utilize o operador módulo (resto da divisão)."
   ]
  },
  {
   "cell_type": "code",
   "execution_count": null,
   "id": "d5e29542",
   "metadata": {},
   "outputs": [],
   "source": []
  },
  {
   "cell_type": "markdown",
   "id": "9f453c5b",
   "metadata": {},
   "source": [
    "### 23. Faça um Programa que peça um número e informe se o número é inteiro ou decimal. Dica: utilize uma função de arredondamento."
   ]
  },
  {
   "cell_type": "code",
   "execution_count": null,
   "id": "e402e1d4",
   "metadata": {},
   "outputs": [],
   "source": []
  },
  {
   "cell_type": "markdown",
   "id": "93ee6e17",
   "metadata": {},
   "source": [
    "### 24. Faça um Programa que leia 2 números e em seguida pergunte ao usuário qual operação ele deseja realizar. O resultado da operação deve ser acompanhado de uma frase que diga se o número é:\n",
    "\n",
    "    a. par ou ímpar;\n",
    "    b. positivo ou negativo;\n",
    "    c. inteiro ou decimal."
   ]
  },
  {
   "cell_type": "code",
   "execution_count": null,
   "id": "04e1a061",
   "metadata": {},
   "outputs": [],
   "source": []
  },
  {
   "cell_type": "markdown",
   "id": "6ef49b93",
   "metadata": {},
   "source": [
    "### 25. Faça um programa que faça 5 perguntas para uma pessoa sobre um crime. As perguntas são:\n",
    "\n",
    "    a. \"Telefonou para a vítima?\"\n",
    "    b. \"Esteve no local do crime?\"\n",
    "    c. \"Mora perto da vítima?\"\n",
    "    d. \"Devia para a vítima?\"\n",
    "    e. \"Já trabalhou com a vítima?\" O programa deve no final emitir uma classificação sobre a participação da pessoa no crime. Se a pessoa responder positivamente a 2 questões ela deve ser classificada como \"Suspeita\", entre 3 e 4 como \"Cúmplice\" e 5 como \"Assassino\". Caso contrário, ele será classificado como \"Inocente\"."
   ]
  },
  {
   "cell_type": "code",
   "execution_count": null,
   "id": "a0b7f28c",
   "metadata": {},
   "outputs": [],
   "source": []
  },
  {
   "cell_type": "markdown",
   "id": "dd5f5bc5",
   "metadata": {},
   "source": [
    "### 26. Um posto está vendendo combustíveis com a seguinte tabela de descontos:\n",
    "\n",
    "    Álcool:\n",
    "\n",
    "        a. até 20 litros, desconto de 3% por litro\n",
    "        b. acima de 20 litros, desconto de 5% por litro\n",
    "\n",
    "    Gasolina:\n",
    "\n",
    "        a. até 20 litros, desconto de 4% por litro\n",
    "        b. acima de 20 litros, desconto de 6% por litro Escreva um algoritmo que leia o número de litros vendidos, o tipo de combustível (codificado da seguinte forma: A-álcool, G-gasolina), calcule e imprima o valor a ser pago pelo cliente sabendo-se que o preço do litro da gasolina é RS 2,50 o preço do litro do álcool é RS 1,90."
   ]
  },
  {
   "cell_type": "code",
   "execution_count": null,
   "id": "6edd8c96",
   "metadata": {},
   "outputs": [],
   "source": []
  },
  {
   "attachments": {
    "image.png": {
     "image/png": "[encoded data removed]"
    }
   },
   "cell_type": "markdown",
   "id": "81d3a827",
   "metadata": {},
   "source": [
    "### 27. Uma fruteira está vendendo frutas com a seguinte tabela de preços:\n",
    "\n",
    "![image.png](attachment:image.png)\n",
    "\n",
    "Se o cliente comprar mais de 8 Kg em frutas ou o valor total da compra ultrapassar RS 25,00, receberá ainda um desconto de 10% sobre este total. Escreva um algoritmo para ler a quantidade (em Kg) de morangos e a quantidade (em Kg) de maças adquiridas e escreva o valor a ser pago pelo cliente.\n"
   ]
  },
  {
   "cell_type": "code",
   "execution_count": null,
   "id": "3976bba2",
   "metadata": {},
   "outputs": [],
   "source": []
  },
  {
   "attachments": {
    "image.png": {
     "image/png": "[encoded data removed]"
    }
   },
   "cell_type": "markdown",
   "id": "a0d14c2f",
   "metadata": {},
   "source": [
    "### 28. Se o cliente comprar mais de 8 Kg em frutas ou o valor total da compra ultrapassar RS 25,00, receberá ainda um desconto de 10% sobre este total. Escreva um algoritmo para ler a quantidade (em Kg) de morangos e a quantidade (em Kg) de maças adquiridas e escreva o valor a ser pago pelo cliente.\n",
    "\n",
    "![image.png](attachment:image.png)\n",
    "\n",
    "Para atender a todos os clientes, cada cliente poderá levar apenas um dos tipos de carne da promoção, porém não há limites para a quantidade de carne por cliente. Se compra for feita no cartão Tabajara o cliente receberá ainda um desconto de 5% sobre o total da compra. Escreva um programa que peça o tipo e a quantidade de carne comprada pelo usuário e gere um cupom fiscal, contendo as informações da compra: tipo e quantidade de carne, preço total, tipo de pagamento, valor do desconto e valor a pagar."
   ]
  },
  {
   "cell_type": "code",
   "execution_count": null,
   "id": "4034b9b7",
   "metadata": {},
   "outputs": [],
   "source": []
  }
 ],
 "metadata": {
  "kernelspec": {
   "display_name": "Python 3 (ipykernel)",
   "language": "python",
   "name": "python3"
  },
  "language_info": {
   "codemirror_mode": {
    "name": "ipython",
    "version": 3
   },
   "file_extension": ".py",
   "mimetype": "text/x-python",
   "name": "python",
   "nbconvert_exporter": "python",
   "pygments_lexer": "ipython3",
   "version": "3.12.1"
  }
 },
 "nbformat": 4,
 "nbformat_minor": 5
}
