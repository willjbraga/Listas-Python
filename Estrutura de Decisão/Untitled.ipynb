{
 "cells": [
  {
   "cell_type": "markdown",
   "id": "abcfa5f6-ba7a-42c0-b296-05e1e186f230",
   "metadata": {},
   "source": [
    "### 1. Faça um Programa que peça dois números e imprima o maior deles."
   ]
  },
  {
   "cell_type": "code",
   "execution_count": null,
   "id": "495f7e34-39fb-4954-a6b6-2bf37607fd1a",
   "metadata": {},
   "outputs": [],
   "source": []
  },
  {
   "cell_type": "markdown",
   "id": "060c574e-aa55-40c7-9f47-5d293d58896b",
   "metadata": {},
   "source": [
    "### 2. Faça um Programa que peça um valor e mostre na tela se o valor é positivo ou negativo."
   ]
  },
  {
   "cell_type": "code",
   "execution_count": null,
   "id": "af41ea7a-4b9e-4d77-8541-e17d611424e2",
   "metadata": {},
   "outputs": [],
   "source": []
  },
  {
   "cell_type": "markdown",
   "id": "c24c799f-583f-46b3-8b6d-4a3c212d9e02",
   "metadata": {},
   "source": [
    "### 3. Faça um Programa que verifique se uma letra digitada é \"F\" ou \"M\". Conforme a letra escrever: F - Feminino, M - Masculino, Sexo Inválido."
   ]
  },
  {
   "cell_type": "code",
   "execution_count": null,
   "id": "5d704312-db86-4c5f-b871-d9090b2fac86",
   "metadata": {},
   "outputs": [],
   "source": []
  },
  {
   "cell_type": "markdown",
   "id": "8bd7b626-d634-4fa1-a73a-b60ebc62a004",
   "metadata": {},
   "source": [
    "### 4. Faça um Programa que verifique se uma letra digitada é vogal ou consoante."
   ]
  },
  {
   "cell_type": "code",
   "execution_count": null,
   "id": "6d4d7f44-e288-49c3-9cf9-0f9369d34503",
   "metadata": {},
   "outputs": [],
   "source": []
  },
  {
   "cell_type": "markdown",
   "id": "d1ada201-c870-4c4a-bfac-9014151f81d9",
   "metadata": {},
   "source": [
    "### 5. Faça um programa para a leitura de duas notas parciais de um aluno. O programa deve calcular a média alcançada por aluno e apresentar:\r",
    "    \n",
    "    \n",
    "- A mensagem \"Aprovado\", se a média alcançada for maior ou igual a sete; \r",
    "- A mensagem \"Reprovado\", se a média for menor do que se;\n",
    "- A mensagem \"Aprovado com Distinção\", se a média for igual a dez."
   ]
  },
  {
   "cell_type": "code",
   "execution_count": null,
   "id": "6088c7a5-c45b-4af0-bc69-267a1ce520d2",
   "metadata": {},
   "outputs": [],
   "source": []
  },
  {
   "cell_type": "markdown",
   "id": "ecf8fcb6-fa40-4328-8d21-e6c756727486",
   "metadata": {},
   "source": [
    "### 6. Faça um Programa que leia três números e mostre o maior deles."
   ]
  },
  {
   "cell_type": "code",
   "execution_count": null,
   "id": "f17db287-391f-4179-b195-fb9be1e7e8dd",
   "metadata": {},
   "outputs": [],
   "source": []
  },
  {
   "cell_type": "markdown",
   "id": "ad66bc73-5e45-4b1f-b83c-45823e56c910",
   "metadata": {},
   "source": [
    "### 7. Faça um Programa que leia três números e mostre o maior e o menor deles."
   ]
  },
  {
   "cell_type": "code",
   "execution_count": null,
   "id": "cf597594-e323-4f38-ba18-f7a41d50037c",
   "metadata": {},
   "outputs": [],
   "source": []
  },
  {
   "cell_type": "markdown",
   "id": "3aa8983d-c1ec-419d-8be7-5a085ec01ed5",
   "metadata": {},
   "source": [
    "### 8. Faça um programa que pergunte o preço de três produtos e informe qual produto você deve comprar, sabendo que a decisão é sempre pelo mais barato."
   ]
  },
  {
   "cell_type": "code",
   "execution_count": null,
   "id": "8abd9ae6-13a9-4995-86a2-e1a9f167533e",
   "metadata": {},
   "outputs": [],
   "source": []
  },
  {
   "cell_type": "markdown",
   "id": "7471096d-4096-414e-851f-f97f576c4ad0",
   "metadata": {},
   "source": [
    "### 9. Faça um Programa que leia três números e mostre-os em ordem decrescente."
   ]
  },
  {
   "cell_type": "code",
   "execution_count": null,
   "id": "8082c95a-646d-4c98-9e60-6751055dae06",
   "metadata": {},
   "outputs": [],
   "source": []
  },
  {
   "cell_type": "markdown",
   "id": "7eeffe31-b176-4f70-b3f8-a0f441ac1b6c",
   "metadata": {},
   "source": [
    "### 10. Faça um Programa que pergunte em que turno você estuda. Peça para digitar M-matutino ou V-Vespertino ou N- Noturno. Imprima a mensagem \"Bom Dia!\", \"Boa Tarde!\" ou \"Boa Noite!\" ou \"Valor Inválido!\", conforme o caso."
   ]
  },
  {
   "cell_type": "code",
   "execution_count": null,
   "id": "fbe277e6-b724-4391-9084-6318c300b65b",
   "metadata": {},
   "outputs": [],
   "source": []
  },
  {
   "cell_type": "markdown",
   "id": "33ae2056-f5c6-4c93-bd83-25bbb60b8049",
   "metadata": {},
   "source": [
    "### 11. As Organizações Tabajara resolveram dar um aumento de salário aos seus colaboradores e lhe contraram para desenvolver o programa que calculará os reajustes.\r",
    "    \n",
    "    Faça um programa que recebe o salário de um colaborador e o reajuste segundo o seguinte critério, baseado no salário atual\n",
    "\n",
    "- salários até RS 280,00 (incluindo) : aumento de 20%\r",
    "- \n",
    "salários entre S$ 280,00 e S$ 700,00 : aumento de 15%- \r\n",
    "salários entreSR$ 700,00 eSR$ 1500,00 : aumento de 10- %\r\n",
    "salários de R$ 1500,00 em diante : aumento de 5% Após o aumento ser realizado, informe na tel- a:\r\n",
    "o salário antes do reajus- te;\r\n",
    "o percentual de aumento aplic- ado;\r\n",
    "o valor do aum- ento;\r\n",
    "o novo salário, após o aumento.ento.:"
   ]
  },
  {
   "cell_type": "code",
   "execution_count": null,
   "id": "4a221e64-2600-4bac-8fb9-87f19b7445fd",
   "metadata": {},
   "outputs": [],
   "source": []
  }
 ],
 "metadata": {
  "kernelspec": {
   "display_name": "Python 3 (ipykernel)",
   "language": "python",
   "name": "python3"
  },
  "language_info": {
   "codemirror_mode": {
    "name": "ipython",
    "version": 3
   },
   "file_extension": ".py",
   "mimetype": "text/x-python",
   "name": "python",
   "nbconvert_exporter": "python",
   "pygments_lexer": "ipython3",
   "version": "3.12.1"
  }
 },
 "nbformat": 4,
 "nbformat_minor": 5
}
