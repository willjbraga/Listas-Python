{
 "cells": [
  {
   "cell_type": "markdown",
   "id": "877f8966",
   "metadata": {},
   "source": [
    "### 1. Faça um Programa que mostre a mensagem \"Alo mundo\" na tela."
   ]
  },
  {
   "cell_type": "code",
   "execution_count": 1,
   "id": "cd8c0eae",
   "metadata": {},
   "outputs": [
    {
     "name": "stdout",
     "output_type": "stream",
     "text": [
      "Alo mundo\n"
     ]
    }
   ],
   "source": [
    "print(\"Alo mundo\")"
   ]
  },
  {
   "cell_type": "markdown",
   "id": "1282969c",
   "metadata": {},
   "source": [
    "### 2. Faça um Programa que peça um número e então mostre a mensagem O número informado foi [número]."
   ]
  },
  {
   "cell_type": "code",
   "execution_count": 3,
   "id": "c086fe7a",
   "metadata": {},
   "outputs": [
    {
     "name": "stdout",
     "output_type": "stream",
     "text": [
      "Digite o numero desejado: 10\n",
      "O numero digitado foi: 10\n"
     ]
    }
   ],
   "source": [
    "numero = int(input(\"Digite o numero desejado: \"))\n",
    "print(\"O numero digitado foi:\", numero)"
   ]
  },
  {
   "cell_type": "markdown",
   "id": "7356495a",
   "metadata": {},
   "source": [
    "### 3. Faça um Programa que peça dois números e imprima a soma."
   ]
  },
  {
   "cell_type": "code",
   "execution_count": 4,
   "id": "6eb3d8f4",
   "metadata": {},
   "outputs": [
    {
     "name": "stdout",
     "output_type": "stream",
     "text": [
      "Digite o primeiro numero: 1\n",
      "Digite o segundo numero: 2\n",
      "A soma dos dois numeros foi: 3\n"
     ]
    }
   ],
   "source": [
    "num1 = int(input(\"Digite o primeiro numero: \"))\n",
    "num2 = int(input(\"Digite o segundo numero: \"))\n",
    "\n",
    "soma = num1 + num2\n",
    "\n",
    "print(\"A soma dos dois numeros foi:\", soma)"
   ]
  },
  {
   "cell_type": "markdown",
   "id": "bf0a8c9f",
   "metadata": {},
   "source": [
    "### 4. Faça um Programa que peça as 4 notas bimestrais e mostre a média."
   ]
  },
  {
   "cell_type": "code",
   "execution_count": 5,
   "id": "d0eeaa9f",
   "metadata": {},
   "outputs": [
    {
     "name": "stdout",
     "output_type": "stream",
     "text": [
      "Digite a nota 1: 1\n",
      "Digite a nota 2: 2\n",
      "Digite a nota 3: 3\n",
      "Digite a nota 4: 4\n",
      "A média das notas foi: 2.5\n"
     ]
    }
   ],
   "source": [
    "nota1 = float(input(\"Digite a nota 1: \"))\n",
    "nota2 = float(input(\"Digite a nota 2: \"))\n",
    "nota3 = float(input(\"Digite a nota 3: \"))\n",
    "nota4 = float(input(\"Digite a nota 4: \"))\n",
    "\n",
    "media = (nota1 + nota2 + nota3 + nota4) / 4\n",
    "\n",
    "print(\"A média das notas foi:\", media)"
   ]
  },
  {
   "cell_type": "markdown",
   "id": "9dc39f24",
   "metadata": {},
   "source": [
    "### 5. Faça um Programa que converta metros para centímetros."
   ]
  },
  {
   "cell_type": "code",
   "execution_count": 11,
   "id": "1db99543",
   "metadata": {},
   "outputs": [
    {
     "name": "stdout",
     "output_type": "stream",
     "text": [
      "Digite a metragem: 2\n",
      "A metragem em centimetros fica: 200cm\n"
     ]
    }
   ],
   "source": [
    "metro = float(input(\"Digite a metragem: \"))\n",
    "\n",
    "centimetro = metro * 100\n",
    "\n",
    "print(f\"A metragem em centimetros fica: {centimetro:.0f}cm\")"
   ]
  },
  {
   "cell_type": "markdown",
   "id": "be8ca3c1",
   "metadata": {},
   "source": [
    "### 6. Faça um Programa que peça o raio de um círculo, calcule e mostre sua área."
   ]
  },
  {
   "cell_type": "code",
   "execution_count": 13,
   "id": "d9692699",
   "metadata": {},
   "outputs": [
    {
     "name": "stdout",
     "output_type": "stream",
     "text": [
      "Digite o raio: 2\n",
      "A area do circulo fica: 12.57m²\n"
     ]
    }
   ],
   "source": [
    "raio = float(input(\"Digite o raio: \"))\n",
    "area = 3.14159 * (raio**2)\n",
    "\n",
    "print(f\"A area do circulo fica: {area:.2f}m²\")"
   ]
  },
  {
   "cell_type": "markdown",
   "id": "8e09dc5b",
   "metadata": {},
   "source": [
    "### 7. Faça um Programa que calcule a área de um quadrado, em seguida mostre o dobro desta área para o usuário."
   ]
  },
  {
   "cell_type": "code",
   "execution_count": 2,
   "id": "19059c7c",
   "metadata": {},
   "outputs": [
    {
     "name": "stdout",
     "output_type": "stream",
     "text": [
      "Digite o tamanho de um dos lados do quadrado: 3\n",
      "A area do quadrado é 9.00 e o dobro dessa area é 18.00\n"
     ]
    }
   ],
   "source": [
    "area = float(input(\"Digite o tamanho de um dos lados do quadrado: \"))\n",
    "area = area ** 2\n",
    "\n",
    "print(f\"A area do quadrado é {area:.2f} e o dobro dessa area é {area * 2:.2f}\")"
   ]
  },
  {
   "cell_type": "markdown",
   "id": "5c587d10",
   "metadata": {},
   "source": [
    "### 8. Faça um Programa que pergunte quanto você ganha por hora e o número de horas trabalhadas no mês. Calcule e mostre o total do seu salário no referido mês."
   ]
  },
  {
   "cell_type": "code",
   "execution_count": 1,
   "id": "cdebd451",
   "metadata": {},
   "outputs": [
    {
     "name": "stdout",
     "output_type": "stream",
     "text": [
      "Digite o quanto você ganha por hora: 20\n",
      "Digite o numero de horas trabalhadas: 160\n",
      "Seu salário nesse mês será: 3200.0\n"
     ]
    }
   ],
   "source": [
    "ganho = float(input(\"Digite o quanto você ganha por hora: \"))\n",
    "horas = int(input(\"Digite o numero de horas trabalhadas: \"))\n",
    "\n",
    "print(\"Seu salário nesse mês será:\", horas * ganho)"
   ]
  },
  {
   "cell_type": "markdown",
   "id": "a6158051",
   "metadata": {},
   "source": [
    "### 9. Faça um Programa que peça a temperatura em graus Fahrenheit, transforme e mostre a temperatura em graus Celsius.\n",
    "\n",
    "    C = 5 * ((F-32) / 9)."
   ]
  },
  {
   "cell_type": "code",
   "execution_count": 4,
   "id": "f826745d",
   "metadata": {},
   "outputs": [
    {
     "name": "stdout",
     "output_type": "stream",
     "text": [
      "Digite a temperatura em Fahrenheit: 32\n",
      "A temperatura em Celsius: 0.00°C\n"
     ]
    }
   ],
   "source": [
    "F = float(input(\"Digite a temperatura em Fahrenheit: \"))\n",
    "\n",
    "C = 5 * ((F-32) / 9)\n",
    "\n",
    "print(f\"A temperatura em Celsius: {C:.2f}°C\")"
   ]
  },
  {
   "cell_type": "markdown",
   "id": "5274f0bc",
   "metadata": {},
   "source": [
    "### 10. Faça um Programa que peça a temperatura em graus Celsius, transforme e mostre em graus Fahrenheit."
   ]
  },
  {
   "cell_type": "code",
   "execution_count": 5,
   "id": "24b8c872",
   "metadata": {},
   "outputs": [
    {
     "name": "stdout",
     "output_type": "stream",
     "text": [
      "Digite a temperatura em Celsius: 32\n",
      "A temperatura em Celsius: 89.60°F\n"
     ]
    }
   ],
   "source": [
    "C = float(input(\"Digite a temperatura em Celsius: \"))\n",
    "\n",
    "F = ((C * 9) / 5) + 32 \n",
    "\n",
    "print(f\"A temperatura em Celsius: {F:.2f}°F\")"
   ]
  },
  {
   "cell_type": "markdown",
   "id": "20592c61",
   "metadata": {},
   "source": [
    "### 11. Faça um Programa que peça 2 números inteiros e um número real. Calcule e mostre:\n",
    "\n",
    "    a. o produto do dobro do primeiro com metade do segundo .\n",
    "    b. a soma do triplo do primeiro com o terceiro.\n",
    "    c. o terceiro elevado ao cubo."
   ]
  },
  {
   "cell_type": "code",
   "execution_count": 2,
   "id": "0b774824",
   "metadata": {},
   "outputs": [
    {
     "name": "stdin",
     "output_type": "stream",
     "text": [
      "Digite o primeiro numero inteiro:  1\n",
      "Digite o segundo numero inteiro:  2\n",
      "Digite o terceiro numero inteiro:  3\n"
     ]
    },
    {
     "name": "stdout",
     "output_type": "stream",
     "text": [
      "o produto do dobro do primeiro com metade do segundo é: 2.0\n",
      "a soma do triplo do primeiro com o terceiro é: 6\n",
      "o terceiro elevado ao cubo é: 27\n"
     ]
    }
   ],
   "source": [
    "num1 = int(input(\"Digite o primeiro numero inteiro: \"))\n",
    "num2 = int(input(\"Digite o segundo numero inteiro: \"))\n",
    "num3 = int(input(\"Digite o terceiro numero inteiro: \"))\n",
    "\n",
    "\n",
    "print(\"o produto do dobro do primeiro com metade do segundo é:\",(num1 * 2) * (num2 / 2))\n",
    "print(\"a soma do triplo do primeiro com o terceiro é:\", (num1 * 3) + num3)\n",
    "print(\"o terceiro elevado ao cubo é:\", num3 ** 3)"
   ]
  },
  {
   "cell_type": "markdown",
   "id": "537a0eb1",
   "metadata": {},
   "source": [
    "### 12. Tendo como dados de entrada a altura de uma pessoa, construa um algoritmo que calcule seu peso ideal, usando a seguinte fórmula: (72.7*altura) - 58"
   ]
  },
  {
   "cell_type": "code",
   "execution_count": 7,
   "id": "b54bc239",
   "metadata": {},
   "outputs": [
    {
     "name": "stdin",
     "output_type": "stream",
     "text": [
      "Digite a sua altura:  1.70\n"
     ]
    },
    {
     "name": "stdout",
     "output_type": "stream",
     "text": [
      "seu peso ideal seria: 65.59\n"
     ]
    }
   ],
   "source": [
    "altura = float(input(\"Digite a sua altura: \"))\n",
    "\n",
    "print(f\"seu peso ideal seria: {(72.7 * altura) - 58:.2f}\")"
   ]
  },
  {
   "cell_type": "markdown",
   "id": "34ec7e83",
   "metadata": {},
   "source": [
    "### 13. Tendo como dado de entrada a altura (h) de uma pessoa, construa um algoritmo que calcule seu peso ideal, utilizando as seguintes fórmulas:\n",
    "\n",
    "    a. Para homens: (72.7*h) - 58\n",
    "    b. Para mulheres: (62.1*h) - 44.7"
   ]
  },
  {
   "cell_type": "code",
   "execution_count": 9,
   "id": "dad8564f",
   "metadata": {},
   "outputs": [
    {
     "name": "stdin",
     "output_type": "stream",
     "text": [
      "Digite a sua altura:  1.70\n"
     ]
    },
    {
     "name": "stdout",
     "output_type": "stream",
     "text": [
      "O peso ideal para homens: 65.59\n",
      "O peso ideal para mulheres: 60.87\n"
     ]
    }
   ],
   "source": [
    "h = float(input(\"Digite a sua altura: \"))\n",
    "\n",
    "print(f\"O peso ideal para homens: {(72.7 * h) - 58 :.2f}\")\n",
    "print(f\"O peso ideal para mulheres: {(62.1 * h) - 44.7 :.2f}\")"
   ]
  },
  {
   "cell_type": "markdown",
   "id": "246dd4dc",
   "metadata": {},
   "source": [
    "### 14. João Papo-de-Pescador, homem de bem, comprou um microcomputador para controlar o rendimento diário de seu trabalho. Toda vez que ele traz um peso de peixes maior que o estabelecido pelo regulamento de pesca do estado de São Paulo (50 quilos) deve pagar uma multa de R 4,00 por quilo excedente. João precisa que você faça um programa que leia a variável peso (peso de peixes) e calcule o excesso. Gravar na variável excesso a quantidade de quilos além do limite e na variável multa o valor da multa que João deverá pagar. Imprima os dados do programa com as mensagens adequadas."
   ]
  },
  {
   "cell_type": "code",
   "execution_count": 16,
   "id": "70268423",
   "metadata": {},
   "outputs": [
    {
     "name": "stdin",
     "output_type": "stream",
     "text": [
      "Digite o peso do peixe:  70\n"
     ]
    },
    {
     "name": "stdout",
     "output_type": "stream",
     "text": [
      "\n",
      "o peso do peixe foi 70.0kg;\n",
      "o excesso foi de 20.0kg \n",
      "a multa a pagar deve ser de 80.00R$\n"
     ]
    }
   ],
   "source": [
    "peso = float(input(\"Digite o peso do peixe: \"))\n",
    "excesso = peso - 50\n",
    "multa = excesso * 4\n",
    "\n",
    "print(f\"\\no peso do peixe foi {peso}kg;\\no excesso foi de {excesso}kg \\na multa a pagar deve ser de {multa:.2f}R$\")"
   ]
  },
  {
   "attachments": {
    "image.png": {
     "image/png": "[encoded data removed]"
    }
   },
   "cell_type": "markdown",
   "id": "6abc9338",
   "metadata": {},
   "source": [
    "### 15. Faça um Programa que pergunte quanto você ganha por hora e o número de horas trabalhadas no mês. Calcule e mostre o total do seu salário no referido mês, sabendo-se que são descontados 11% para o Imposto de Renda, 8% para o INSS e 5% para o sindicato, faça um programa que nos dê:\n",
    "\n",
    "    a. salário bruto.\n",
    "    b. quanto pagou ao INSS.\n",
    "    c. quanto pagou ao sindicato.\n",
    "    d. o salário líquido.\n",
    "    e. calcule os descontos e o salário líquido, conforme a tabela abaixo:\n",
    "    \n",
    "![image.png](attachment:image.png)\n",
    "\n",
    "Obs.: Salário Bruto - Descontos = Salário Líquido."
   ]
  },
  {
   "cell_type": "code",
   "execution_count": 22,
   "id": "e105e3c1",
   "metadata": {},
   "outputs": [
    {
     "name": "stdin",
     "output_type": "stream",
     "text": [
      "Digite o quanto você ganha por hora:  25\n",
      "Digite o numero de horas trabalhadas:  160\n"
     ]
    },
    {
     "name": "stdout",
     "output_type": "stream",
     "text": [
      "\n",
      "+ Salário Bruto: 4000.0 R$ \n",
      "- IR (11%): 440.0 R$ \n",
      "- INSS (8%): 320.0 R$ \n",
      "- Sindicato (5%): 200.0 R$\n",
      "= Salário Liquido: 3040.0 R$\n"
     ]
    }
   ],
   "source": [
    "ganho_hora = float(input(\"Digite o quanto você ganha por hora: \"))\n",
    "horas_trabalhadas = int(input(\"Digite o numero de horas trabalhadas: \"))\n",
    "\n",
    "salario_bruto = ganho_hora * horas_trabalhadas\n",
    "ir = salario_bruto * (11 / 100)\n",
    "inss = salario_bruto * (8 / 100)\n",
    "sindicato = salario_bruto * (5 / 100)\n",
    "salario_liquido = salario_bruto - ir - inss - sindicato\n",
    "\n",
    "print(f\"\\n+ Salário Bruto: {salario_bruto} R$ \\n- IR (11%): {ir} R$ \\n- INSS (8%): {inss} R$ \\n- Sindicato (5%): {sindicato} R$\\n= Salário Liquido: {salario_liquido} R$\")"
   ]
  },
  {
   "cell_type": "markdown",
   "id": "e5fd417c",
   "metadata": {},
   "source": [
    "### 16. Faça um programa para uma loja de tintas. O programa deverá pedir o tamanho em metros quadrados da área a ser pintada. Considere que a cobertura da tinta é de 1 litro para cada 3 metros quadrados e que a tinta é vendida em latas de 18 litros, que custam RS 80,00. Informe ao usuário a quantidades de latas de tinta a serem compradas e o preço total."
   ]
  },
  {
   "cell_type": "code",
   "execution_count": 4,
   "id": "9721e6af",
   "metadata": {},
   "outputs": [
    {
     "name": "stdin",
     "output_type": "stream",
     "text": [
      "Digite o tamanho em metros quadrados da área a ser pintada:  108\n"
     ]
    },
    {
     "name": "stdout",
     "output_type": "stream",
     "text": [
      "A quantidade de lata de tintas a serem compradas é 2 e o preço total 160.00\n"
     ]
    }
   ],
   "source": [
    "area = float(input(\"Digite o tamanho em metros quadrados da área a ser pintada: \"))\n",
    "\n",
    "quantidade = (area / 3) / 18\n",
    "print(f\"A quantidade de lata de tintas a serem compradas é {quantidade :.0f} e o preço total {quantidade * 80 :.2f}\")"
   ]
  },
  {
   "cell_type": "markdown",
   "id": "adff3f40",
   "metadata": {},
   "source": [
    "### 17. Faça um Programa para uma loja de tintas. O programa deverá pedir o tamanho em metros quadrados da área a ser pintada. Considere que a cobertura da tinta é de 1 litro para cada 6 metros quadrados e que a tinta é vendida em latas de 18 litros, que custam RS 80,00 ou em galões de 3,6 litros, que custam RS 25,00.\n",
    "\n",
    "Informe ao usuário as quantidades de tinta a serem compradas e os respectivos preços em 3 situações:\n",
    "\n",
    "1. comprar apenas latas de 18 litros;\n",
    "2. comprar apenas galões de 3,6 litros;\n",
    "3. misturar latas e galões, de forma que o desperdício de tinta seja menor. Acrescente 10% de folga e sempre arredonde os valores para cima, isto é, considere latas cheias."
   ]
  },
  {
   "cell_type": "code",
   "execution_count": 13,
   "id": "e5073bb0",
   "metadata": {},
   "outputs": [
    {
     "name": "stdin",
     "output_type": "stream",
     "text": [
      "Digite o tamanho em metros quadrados da área a ser pintada:  99\n"
     ]
    },
    {
     "name": "stdout",
     "output_type": "stream",
     "text": [
      "\n",
      "A quantidade apenas de latas de tinta a serem compradas é 2 e o preço total 160.00 R$\n",
      "A quantidade apenas de galões de tinta a serem compradas é 6 e o preço total 150.00 R$\n",
      "De forma mista, a quantidade de latas são 1 e de galões 1 que saem 105 R$\n"
     ]
    }
   ],
   "source": [
    "import math\n",
    "\n",
    "area = float(input(\"Digite o tamanho em metros quadrados da área a ser pintada: \")) * 1.1\n",
    "\n",
    "quantidade_latas = math.ceil((area / 6) / 18)\n",
    "quantidade_galoes = math.ceil((area / 6) / 3.6)\n",
    "\n",
    "print(f\"\\nA quantidade apenas de latas de tinta a serem compradas é {quantidade_latas :.0f} e o preço total {quantidade_latas * 80 :.2f} R$\")\n",
    "print(f\"A quantidade apenas de galões de tinta a serem compradas é {quantidade_galoes :.0f} e o preço total {quantidade_galoes * 25 :.2f} R$\")\n",
    "\n",
    "#calculo de quantidades mistas\n",
    "latas_misto = math.floor((area / 6) / 18)\n",
    "galoes_misto = math.ceil((area % 18) / 3.6)\n",
    "\n",
    "print(f\"De forma mista, a quantidade de latas são {latas_misto} e de galões {galoes_misto} que saem {(latas_misto * 80) + (galoes_misto * 25)} R$\")\n"
   ]
  },
  {
   "cell_type": "markdown",
   "id": "1a215e12",
   "metadata": {},
   "source": [
    "### 18. Faça um programa que peça o tamanho de um arquivo para download (em MB) e a velocidade de um link de Internet (em Mbps), calcule e informe o tempo aproximado de download do arquivo usando este link (em minutos)."
   ]
  },
  {
   "cell_type": "code",
   "execution_count": 9,
   "id": "3b9d2fbb",
   "metadata": {},
   "outputs": [
    {
     "name": "stdin",
     "output_type": "stream",
     "text": [
      "Digite o tamano do arquivo a ser baixado (em MB):  1024\n",
      "Agora digite a velocidade do link (em MBps):  100\n"
     ]
    },
    {
     "name": "stdout",
     "output_type": "stream",
     "text": [
      "O tempo aproximado de download do arquivo sera 0.17066666666666666\n"
     ]
    }
   ],
   "source": [
    "arquivo = int(input(\"Digite o tamano do arquivo a ser baixado (em MB): \"))\n",
    "velocidade = int(input(\"Agora digite a velocidade do link (em MBps): \"))\n",
    "\n",
    "print(f\"O tempo aproximado de download do arquivo sera {(arquivo / velocidade) / 60:.2f}\")\n"
   ]
  }
 ],
 "metadata": {
  "kernelspec": {
   "display_name": "Python 3 (ipykernel)",
   "language": "python",
   "name": "python3"
  },
  "language_info": {
   "codemirror_mode": {
    "name": "ipython",
    "version": 3
   },
   "file_extension": ".py",
   "mimetype": "text/x-python",
   "name": "python",
   "nbconvert_exporter": "python",
   "pygments_lexer": "ipython3",
   "version": "3.12.1"
  }
 },
 "nbformat": 4,
 "nbformat_minor": 5
}
