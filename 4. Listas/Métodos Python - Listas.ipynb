{
 "cells": [
  {
   "cell_type": "markdown",
   "id": "b60a0943",
   "metadata": {},
   "source": [
    "## *Métodos de Listas*\n",
    "\n",
    "===================================================================================="
   ]
  },
  {
   "cell_type": "markdown",
   "id": "55203761",
   "metadata": {},
   "source": [
    "---\n",
    "\n",
    "**Método .index() -> procura o indice de um valor dentro da lista** \n",
    "\n",
    "---------------------------------------------------------------------------------------"
   ]
  },
  {
   "cell_type": "raw",
   "id": "e264fe31",
   "metadata": {},
   "source": [
    "variavel.index(valor)\n",
    "i = nome_da_lista.index(‘o_que_você_procura’)"
   ]
  },
  {
   "cell_type": "markdown",
   "id": "8597ca0c",
   "metadata": {},
   "source": [
    "**obs: tente usar try e except para tratar erros**"
   ]
  },
  {
   "cell_type": "raw",
   "id": "98e87926",
   "metadata": {},
   "source": [
    "try:\n",
    "    var.index(\"o_que_você_procura')\n",
    "except:\n",
    "    print(\"Esse valor não existe)"
   ]
  },
  {
   "cell_type": "code",
   "execution_count": 14,
   "id": "bb1f9667",
   "metadata": {},
   "outputs": [
    {
     "name": "stdout",
     "output_type": "stream",
     "text": [
      "Digite um valor para verificar na lista: asd\n",
      "o valor não existe\n"
     ]
    }
   ],
   "source": [
    "lista = [\"William\", \"Braga\"]\n",
    "valor = input(\"Digite um valor para verificar na lista: \")\n",
    "\n",
    "try:\n",
    "    print(f\"O valor {valor} tem indice: \", var.index(valor))\n",
    "except:\n",
    "    print(\"o valor não existe\")"
   ]
  },
  {
   "cell_type": "markdown",
   "id": "638c1e7e",
   "metadata": {},
   "source": [
    "--------------------------------\n",
    "\n",
    "**Método .append() -> adiciona um valor na lista**\n",
    "\n",
    "--------------------------------------------------------------------------------------------\n"
   ]
  },
  {
   "cell_type": "raw",
   "id": "21fc65ce",
   "metadata": {},
   "source": [
    "valor = alguma coisa\n",
    "\n",
    "lista.append(valor)"
   ]
  },
  {
   "cell_type": "code",
   "execution_count": 16,
   "id": "552cbb8b",
   "metadata": {},
   "outputs": [
    {
     "name": "stdout",
     "output_type": "stream",
     "text": [
      "Digite um valor para adicionar a listaWilliam\n",
      "['William']\n"
     ]
    }
   ],
   "source": [
    "lista = []\n",
    "valor = input(\"Digite um valor para adicionar a lista: \")\n",
    "\n",
    "lista.append(valor)\n",
    "print(lista)"
   ]
  },
  {
   "cell_type": "markdown",
   "id": "f28754e2",
   "metadata": {},
   "source": [
    "---\n",
    "\n",
    "**Método .remove() -> remove um valor da lista**\n",
    "\n",
    "---------------------------------------------------------------\n",
    "\n",
    "lista = [1,2,3] <br>\n",
    "valor = 1\n",
    "\n",
    "lista.remove(valor)\n",
    "\n",
    "**obs: nesse exemplo remove o valor 1 da lista** <br>\n",
    "**Obs2: é bom utlizar o a função try para tratar erro**"
   ]
  },
  {
   "cell_type": "raw",
   "id": "007dec6d",
   "metadata": {},
   "source": [
    "try:\n",
    "    lista.remove(valor)\n",
    "except:\n",
    "    print(\"Esse valor não existe na lsita\")"
   ]
  },
  {
   "cell_type": "code",
   "execution_count": 1,
   "id": "8177ecff",
   "metadata": {},
   "outputs": [
    {
     "name": "stdout",
     "output_type": "stream",
     "text": [
      "[2, 3]\n"
     ]
    }
   ],
   "source": [
    "lista = [1,2,3]\n",
    "valor = 1\n",
    "\n",
    "try:\n",
    "    lista.remove(valor)\n",
    "    print(lista)\n",
    "except:\n",
    "    print(\"Não existe esse valor na lista\")"
   ]
  },
  {
   "cell_type": "markdown",
   "id": "3ae169b8",
   "metadata": {},
   "source": [
    "---\n",
    "\n",
    "**Método .pop() -> remove um valor da lista utlizando o indice dele(diferente do remove, o pop retorna o valor)**\n",
    "\n",
    "---"
   ]
  },
  {
   "cell_type": "raw",
   "id": "6bd65298",
   "metadata": {},
   "source": [
    "lista = [1,2,3]\n",
    "\n",
    "valor = lista.pop(indice)"
   ]
  },
  {
   "cell_type": "code",
   "execution_count": 1,
   "id": "18e44df4",
   "metadata": {},
   "outputs": [
    {
     "name": "stdout",
     "output_type": "stream",
     "text": [
      "[2, 3]\n"
     ]
    }
   ],
   "source": [
    "lista = [1,2,3]\n",
    "\n",
    "valor = lista.pop(0)\n",
    "print(lista)"
   ]
  },
  {
   "cell_type": "markdown",
   "id": "f6fad5b9",
   "metadata": {},
   "source": [
    "---\n",
    "\n",
    "**Método len() / max() / min() -> Retorna o tamanho da lista, o valor maximo (maior) e o valor minimo (menor)**\n",
    "\n",
    "---"
   ]
  },
  {
   "cell_type": "raw",
   "id": "f0a6c469",
   "metadata": {},
   "source": [
    "lista = [1,2,3,4,5,6]\n",
    "\n",
    "print(len(lista))\n",
    "print(max(lista))\n",
    "print(min(lista))"
   ]
  },
  {
   "cell_type": "code",
   "execution_count": 3,
   "id": "37f426ed",
   "metadata": {},
   "outputs": [
    {
     "name": "stdout",
     "output_type": "stream",
     "text": [
      "6\n",
      "9\n",
      "1\n"
     ]
    }
   ],
   "source": [
    "lista = [1,2,3,4,5,9]\n",
    "\n",
    "print(len(lista))\n",
    "print(max(lista))\n",
    "print(min(lista))"
   ]
  },
  {
   "cell_type": "markdown",
   "id": "822b7f6c",
   "metadata": {},
   "source": [
    "---\n",
    "\n",
    "### Métodos para adicionar listas ou juntar\n",
    "\n",
    "---"
   ]
  },
  {
   "cell_type": "markdown",
   "id": "5bdca10b",
   "metadata": {},
   "source": [
    "**Método .extend() -> usado para juntar os valores de duas listas ou adicionar os valores de uma lista em outra**"
   ]
  },
  {
   "cell_type": "code",
   "execution_count": 1,
   "id": "d1af68cc",
   "metadata": {},
   "outputs": [
    {
     "name": "stdout",
     "output_type": "stream",
     "text": [
      "[1, 2, 3, 4, 5, 6]\n"
     ]
    }
   ],
   "source": [
    "lista = [1,2,3]\n",
    "lista2 = [4,5,6]\n",
    "\n",
    "lista.extend(lista2)\n",
    "\n",
    "print(lista)"
   ]
  },
  {
   "cell_type": "markdown",
   "id": "611234ff",
   "metadata": {},
   "source": [
    "**Utilizando o operador \" + \"**\n",
    "\n",
    "Obs: foi utilizado o conceito de atribuição incremental"
   ]
  },
  {
   "cell_type": "code",
   "execution_count": 3,
   "id": "a5476b75",
   "metadata": {},
   "outputs": [
    {
     "name": "stdout",
     "output_type": "stream",
     "text": [
      "[1, 2, 3, 4, 5, 6]\n"
     ]
    }
   ],
   "source": [
    "lista = [1,2,3]\n",
    "lista2 = [4,5,6]\n",
    "\n",
    "lista += lista2\n",
    "\n",
    "print(lista)"
   ]
  },
  {
   "cell_type": "markdown",
   "id": "68495810",
   "metadata": {},
   "source": [
    "**Obs: o método .append() é utilizado para adicionar valor, caso use o append para lista será atribuida uma lista dentro de lista**"
   ]
  },
  {
   "cell_type": "code",
   "execution_count": 5,
   "id": "511fb7f2",
   "metadata": {},
   "outputs": [
    {
     "name": "stdout",
     "output_type": "stream",
     "text": [
      "[1, 2, 3, [4, 5, 6]]\n"
     ]
    }
   ],
   "source": [
    "lista = [1,2,3]\n",
    "lista2 = [4,5,6]\n",
    "\n",
    "lista.append(lista2)\n",
    "\n",
    "print(lista)"
   ]
  },
  {
   "cell_type": "markdown",
   "id": "76db2def",
   "metadata": {},
   "source": [
    "---"
   ]
  },
  {
   "cell_type": "markdown",
   "id": "4602ace9",
   "metadata": {},
   "source": [
    "---\n",
    "\n",
    "**Método .sort() -> Ordena os valores de uma lista**\n",
    "\n",
    "---\n",
    "A ordenação é feita do menor para o maior quando é numero e de acordo com a tabela ASC2 quando texto"
   ]
  },
  {
   "cell_type": "code",
   "execution_count": 7,
   "id": "e1745baf",
   "metadata": {},
   "outputs": [
    {
     "name": "stdout",
     "output_type": "stream",
     "text": [
      "[0, 1, 2, 5, 9, 12, 35, 78]\n",
      "['Adam', 'João', 'William', 'Zé']\n"
     ]
    }
   ],
   "source": [
    "numeros = [12,5,9,78,35,0,1,2]\n",
    "nomes = [\"William\", \"Zé\", \"Adam\", \"João\"]\n",
    "\n",
    "numeros.sort()\n",
    "nomes.sort()\n",
    "\n",
    "print(numeros)\n",
    "print(nomes)"
   ]
  },
  {
   "cell_type": "markdown",
   "id": "619bc9e8",
   "metadata": {},
   "source": [
    "**Obs: é possivel \"inverter\" fazendo ordenar do maior para o menor como parametro reverse**"
   ]
  },
  {
   "cell_type": "code",
   "execution_count": 9,
   "id": "b87747c9",
   "metadata": {},
   "outputs": [
    {
     "name": "stdout",
     "output_type": "stream",
     "text": [
      "[78, 35, 12, 9, 5, 2, 1, 0]\n"
     ]
    }
   ],
   "source": [
    "numeros.sort(reverse = True)\n",
    "\n",
    "print(numeros)"
   ]
  },
  {
   "cell_type": "markdown",
   "id": "2e4bdb6a",
   "metadata": {},
   "source": [
    "---\n",
    "\n",
    "### Métodos de Conversão Lista -> String e String -> Lista\n",
    "\n",
    "---"
   ]
  },
  {
   "cell_type": "markdown",
   "id": "37104dd4",
   "metadata": {},
   "source": [
    "**Método .join() -> Converte uma Lista em String**\n",
    "\n",
    "**Obs: Tambem pode ser usado para exibir os valores da lista de forma organizada (como quebra de linha)**"
   ]
  },
  {
   "cell_type": "code",
   "execution_count": 13,
   "id": "6c10f29f",
   "metadata": {},
   "outputs": [
    {
     "name": "stdout",
     "output_type": "stream",
     "text": [
      "Meu Nome É William\n",
      "Meu\n",
      "Nome\n",
      "É\n",
      "William\n"
     ]
    }
   ],
   "source": [
    "lista = [\"Meu\", \"Nome\", \"É\", \"William\"]\n",
    "texto = \" \".join(lista)\n",
    "\n",
    "print(texto)\n",
    "\n",
    "print(\"\\n\".join(lista))"
   ]
  },
  {
   "cell_type": "markdown",
   "id": "56e3947a",
   "metadata": {},
   "source": [
    "**Método .split() -> Converte uma String em Lista**\n",
    "\n",
    "**Obs: O padrão do split é o espaço como caractere delimitador**"
   ]
  },
  {
   "cell_type": "code",
   "execution_count": 16,
   "id": "4f7c973c",
   "metadata": {},
   "outputs": [
    {
     "name": "stdout",
     "output_type": "stream",
     "text": [
      "['Meu', 'nome', 'é', 'William']\n",
      "['Pera', 'Cacto', 'Laranja', 'Banana']\n"
     ]
    }
   ],
   "source": [
    "texto = \"Meu nome é William\"\n",
    "texto2 = \"Pera, Cacto, Laranja, Banana\"\n",
    "\n",
    "lista = texto.split()\n",
    "lista2 = texto2.split(', ')\n",
    "\n",
    "print(lista)\n",
    "print(lista2)"
   ]
  },
  {
   "cell_type": "markdown",
   "id": "25fbecf8",
   "metadata": {},
   "source": [
    "---\n",
    "\n",
    "###  Função que retorna os métodos \n",
    "\n",
    "---"
   ]
  },
  {
   "cell_type": "code",
   "execution_count": 1,
   "id": "226a6d9e",
   "metadata": {},
   "outputs": [
    {
     "name": "stdout",
     "output_type": "stream",
     "text": [
      "__add__\n",
      "__class__\n",
      "__class_getitem__\n",
      "__contains__\n",
      "__delattr__\n",
      "__delitem__\n",
      "__dir__\n",
      "__doc__\n",
      "__eq__\n",
      "__format__\n",
      "__ge__\n",
      "__getattribute__\n",
      "__getitem__\n",
      "__getstate__\n",
      "__gt__\n",
      "__hash__\n",
      "__iadd__\n",
      "__imul__\n",
      "__init__\n",
      "__init_subclass__\n",
      "__iter__\n",
      "__le__\n",
      "__len__\n",
      "__lt__\n",
      "__mul__\n",
      "__ne__\n",
      "__new__\n",
      "__reduce__\n",
      "__reduce_ex__\n",
      "__repr__\n",
      "__reversed__\n",
      "__rmul__\n",
      "__setattr__\n",
      "__setitem__\n",
      "__sizeof__\n",
      "__str__\n",
      "__subclasshook__\n",
      "append\n",
      "clear\n",
      "copy\n",
      "count\n",
      "extend\n",
      "index\n",
      "insert\n",
      "pop\n",
      "remove\n",
      "reverse\n",
      "sort\n"
     ]
    }
   ],
   "source": [
    "lista = []\n",
    "\n",
    "print(\"\\n\".join(dir(lista)))"
   ]
  },
  {
   "cell_type": "markdown",
   "id": "aacc0f9e",
   "metadata": {},
   "source": [
    "---\n",
    "\n",
    "### Copiar Listas\n",
    "\n",
    "---"
   ]
  },
  {
   "cell_type": "markdown",
   "id": "b81a3961",
   "metadata": {},
   "source": [
    "**Método .copy() -> copia os valores de uma lista para outra**"
   ]
  },
  {
   "cell_type": "code",
   "execution_count": 3,
   "id": "9931853d",
   "metadata": {},
   "outputs": [
    {
     "name": "stdout",
     "output_type": "stream",
     "text": [
      "[4, 5, 6]\n"
     ]
    }
   ],
   "source": [
    "lista = []\n",
    "lista2 = [4,5,6]\n",
    "\n",
    "lista = lista2.copy()\n",
    "\n",
    "print(lista)"
   ]
  },
  {
   "cell_type": "markdown",
   "id": "18d85340",
   "metadata": {},
   "source": [
    "**OBS: caso tenho algum valor na primera lista, os dados serão substitiuidos para lista2**\n",
    "\n",
    "**Atribuir uma lista a outra cria um vinculo entre lista (ou seja, não copia os valors e sim relacionam). Caso um item de qualquer lista seja alterado, será refletido na outra lista**"
   ]
  },
  {
   "cell_type": "code",
   "execution_count": 5,
   "id": "dd6b1c1a",
   "metadata": {},
   "outputs": [
    {
     "name": "stdout",
     "output_type": "stream",
     "text": [
      "[1, 2, 10]\n"
     ]
    }
   ],
   "source": [
    "lista = [1,2,3]\n",
    "lista2 = lista\n",
    "\n",
    "lista[2] = 10\n",
    "\n",
    "print(lista)"
   ]
  },
  {
   "cell_type": "markdown",
   "id": "409b696f",
   "metadata": {},
   "source": [
    "---\n",
    "\n",
    "### Lista de Lista\n",
    "\n",
    "---"
   ]
  },
  {
   "cell_type": "markdown",
   "id": "0961c893",
   "metadata": {},
   "source": [
    "Uma lista de lista aparece da seguinte forma: lista[1][1]"
   ]
  },
  {
   "cell_type": "code",
   "execution_count": 7,
   "id": "0250c757",
   "metadata": {},
   "outputs": [
    {
     "name": "stdout",
     "output_type": "stream",
     "text": [
      "William tem 22 anos\n"
     ]
    }
   ],
   "source": [
    "nome = [\"William\", \"Zé\"]\n",
    "dados = [[14690422664, 22], \n",
    "        [14690422679, [20]]]\n",
    "\n",
    "#Na lista dados o cada indice representa uma pessoa (nome[0]-> William), ja o segundo indice representa um dado da pessoa (sendo 0 o cpf e 1 a idade)\n",
    "# dados[0][2] -> Representa a idade de William\n",
    "\n",
    "print(f\"{nome[0]} tem {dados[0][1]} anos\")\n"
   ]
  },
  {
   "cell_type": "code",
   "execution_count": null,
   "id": "e482a0fc",
   "metadata": {},
   "outputs": [],
   "source": []
  }
 ],
 "metadata": {
  "kernelspec": {
   "display_name": "Python 3 (ipykernel)",
   "language": "python",
   "name": "python3"
  },
  "language_info": {
   "codemirror_mode": {
    "name": "ipython",
    "version": 3
   },
   "file_extension": ".py",
   "mimetype": "text/x-python",
   "name": "python",
   "nbconvert_exporter": "python",
   "pygments_lexer": "ipython3",
   "version": "3.11.4"
  }
 },
 "nbformat": 4,
 "nbformat_minor": 5
}
